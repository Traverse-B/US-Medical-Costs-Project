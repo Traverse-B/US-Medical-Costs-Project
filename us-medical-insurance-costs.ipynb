{
 "cells": [
  {
   "cell_type": "markdown",
   "metadata": {},
   "source": [
    "# U.S. Medical Insurance Costs:  A Python Story\n",
    "By Brian Batcheldor\n",
    "<br>\n",
    "<br>\n",
    "How do we make a csv file into a story anyone can understand?  How do we find features within a dataset that can help us draw real conclusions?  Let's look for some ways that Python can help us to understand relational data by looking at the relational data file `insurance.csv`.  First, let's import our data into Python using the csv module and the method `DictReader()`, which will convert it into a list of Python dictionaries."
   ]
  },
  {
   "cell_type": "code",
   "execution_count": 1,
   "metadata": {},
   "outputs": [
    {
     "name": "stdout",
     "output_type": "stream",
     "text": [
      "[{'age': '19', 'sex': 'female', 'bmi': '27.9', 'children': '0', 'smoker': 'yes', 'region': 'southwest', 'charges': '16884.924'}, {'age': '18', 'sex': 'male', 'bmi': '33.77', 'children': '1', 'smoker': 'no', 'region': 'southeast', 'charges': '1725.5523'}, {'age': '28', 'sex': 'male', 'bmi': '33', 'children': '3', 'smoker': 'no', 'region': 'southeast', 'charges': '4449.462'}]\n"
     ]
    }
   ],
   "source": [
    "import csv\n",
    "\n",
    "medical_data = []\n",
    "\n",
    "with open('insurance.csv', newline='') as insurance_csv:\n",
    "    reader = csv.DictReader(insurance_csv)\n",
    "    for row in reader:\n",
    "        medical_data.append(row)\n",
    "\n",
    "print(medical_data[:3])"
   ]
  },
  {
   "cell_type": "markdown",
   "metadata": {
    "tags": []
   },
   "source": [
    "## Research Questions and Hypotheses:\n",
    "In this exercise, I will use the imported dataset to explore the following questions and test the associated hypotheses.\n",
    "\n",
    "### R1: How does aging affect medical costs in women vs. men?\n",
    "\n",
    "H1:  Women under 45 will have higher average medical costs than men.\n",
    "\n",
    "H2:  Men over 45 will have higher average medical costs than women.\n",
    "\n",
    "### R2:  How do medical costs vary by region?\n",
    "H3:  People from the Southeastern region will have the highest average medical costs.\n",
    "\n",
    "H4:  People from the Northwest region will have the lowest average medical costs.\n",
    "\n",
    "### R3:  What factors have the greatest effect on medical costs?\n",
    "H4:  Smoking will be the single greatest factor influencing medical costs.\n",
    "\n",
    "H5:  BMI of 30 or over will have a significant effect on medical costs.\n",
    "\n",
    "<br>\n",
    "<br>\n",
    "\n",
    "## How does aging effect medical costs in men and women?\n",
    "First, let's address the question of aging in men and women.  We hypothesize that women will have higher average medical costs than men when they are of childbearing are (under 45), and that thereafter, men will have overall higher medical costs.  To test these hypotheses, we will define a function that takes the parameters `min_age`, `max_age` and `sex` and returns the average medical cost."
   ]
  },
  {
   "cell_type": "code",
   "execution_count": 2,
   "metadata": {},
   "outputs": [],
   "source": [
    "def average_by_age_and_sex(min_age, max_age, sex):\n",
    "    count = 0\n",
    "    total = 0.0\n",
    "    for row in medical_data:\n",
    "        age = int(row['age'])\n",
    "        if age < min_age or age > max_age or row['sex'] != sex:\n",
    "            continue\n",
    "        else:\n",
    "            count += 1\n",
    "            total += float(row['charges'])\n",
    "    return total / count    "
   ]
  },
  {
   "cell_type": "markdown",
   "metadata": {},
   "source": [
    "Now, let's use this function to see the average medical costs for men and women under 45!"
   ]
  },
  {
   "cell_type": "code",
   "execution_count": 3,
   "metadata": {},
   "outputs": [
    {
     "name": "stdout",
     "output_type": "stream",
     "text": [
      "The average medical costs for women under 45 was $10178.259371537897, while the average costs for men under 45 was $11638.001295291382\n"
     ]
    }
   ],
   "source": [
    "women_under_45 = average_by_age_and_sex(0, 45, 'female')\n",
    "men_under_45 = average_by_age_and_sex(0, 45, 'male')\n",
    "print('The average medical costs for women under 45 was $%s, while the average costs for men under 45 was $%s' % \n",
    "    (women_under_45, men_under_45))"
   ]
  },
  {
   "cell_type": "markdown",
   "metadata": {},
   "source": [
    "As you can see, our hypothesis was wrong!  Men under 45 have higher health care costs than women.  Now let's use our function to see the average medical costs for men and women *over* 45."
   ]
  },
  {
   "cell_type": "code",
   "execution_count": 4,
   "metadata": {},
   "outputs": [
    {
     "name": "stdout",
     "output_type": "stream",
     "text": [
      "The average medical costs for women over 45 was $16241.536243183511, while the average costs for men under 45 was $17915.267064961827.\n"
     ]
    }
   ],
   "source": [
    "women_over_45 = average_by_age_and_sex(45, 100, 'female')\n",
    "men_over_45 = average_by_age_and_sex(45, 100, 'male')\n",
    "print('The average medical costs for women over 45 was $%s, while the average costs for men under 45 was $%s.' % \n",
    "      (women_over_45, men_over_45))"
   ]
  },
  {
   "cell_type": "markdown",
   "metadata": {},
   "source": [
    "Again, the average medical costs for men are higher than women.  Good to know!\n",
    "<br>\n",
    "<br>\n",
    "<br>\n",
    "<br>\n",
    "\n",
    "## Medical Costs by Region\n",
    "Men have higher medical costs than women, but what region of the U.S. has the highest average medical costs?  I notice that several of our questions have to do with average costs.  It would be helpful for us to have a single, reusable function that finds the average medical costs of any dataset.  Let's start there:"
   ]
  },
  {
   "cell_type": "code",
   "execution_count": 5,
   "metadata": {},
   "outputs": [
    {
     "name": "stdout",
     "output_type": "stream",
     "text": [
      "13270.422265141257\n"
     ]
    }
   ],
   "source": [
    "def average_costs(dataset):\n",
    "    total = 0.0\n",
    "    for row in dataset:\n",
    "        total += float(row['charges'])\n",
    "    return total / len(dataset)\n",
    "\n",
    "print(average_costs(medical_data))"
   ]
  },
  {
   "cell_type": "markdown",
   "metadata": {},
   "source": [
    "Now when we want to drill down in the data, all we need to do is filter the dataset -- keeping just the rows with the characteristic we're looking for -- then use our `average_costs` function to find the average.  A simple way to filter the rows we want is with list comprehensions!  First, let's use a list comprehension to make a dataset with just rows for individuals from the Southeast region.  We'll check our list comprehension trick by printing the first three lines."
   ]
  },
  {
   "cell_type": "code",
   "execution_count": 6,
   "metadata": {},
   "outputs": [
    {
     "name": "stdout",
     "output_type": "stream",
     "text": [
      "[{'age': '18', 'sex': 'male', 'bmi': '33.77', 'children': '1', 'smoker': 'no', 'region': 'southeast', 'charges': '1725.5523'}, {'age': '28', 'sex': 'male', 'bmi': '33', 'children': '3', 'smoker': 'no', 'region': 'southeast', 'charges': '4449.462'}, {'age': '31', 'sex': 'female', 'bmi': '25.74', 'children': '0', 'smoker': 'no', 'region': 'southeast', 'charges': '3756.6216'}]\n"
     ]
    }
   ],
   "source": [
    "southeast_region = [row for row in medical_data if row['region'] == 'southeast']\n",
    "\n",
    "print(southeast_region[:3])"
   ]
  },
  {
   "cell_type": "markdown",
   "metadata": {},
   "source": [
    "It works!  Now, we can find the average medical costs for people from the Southeast."
   ]
  },
  {
   "cell_type": "code",
   "execution_count": 7,
   "metadata": {},
   "outputs": [
    {
     "name": "stdout",
     "output_type": "stream",
     "text": [
      "14735.411437609895\n"
     ]
    }
   ],
   "source": [
    "southeast_costs = average_costs(southeast_region)\n",
    "print(southeast_costs)"
   ]
  },
  {
   "cell_type": "markdown",
   "metadata": {},
   "source": [
    "Now, let's compare costs with the other regions.  To save time, we will write those handy list comprehensions right into the average cost function thus:"
   ]
  },
  {
   "cell_type": "code",
   "execution_count": 8,
   "metadata": {},
   "outputs": [
    {
     "name": "stdout",
     "output_type": "stream",
     "text": [
      "Average costs -- Northeast: 13406.3845163858, Southwest: 12346.93737729231, Northwest: 12417.575373969228.\n"
     ]
    }
   ],
   "source": [
    "northeast_region = [row for row in medical_data if row['region'] == 'northeast']\n",
    "southwest_region = [row for row in medical_data if row['region'] == 'southwest']\n",
    "northwest_region = [row for row in medical_data if row['region'] == 'northwest']\n",
    "\n",
    "northeast_costs = average_costs(northeast_region)\n",
    "southwest_costs = average_costs(southwest_region)\n",
    "northwest_costs = average_costs(northwest_region)\n",
    "                                \n",
    "print('Average costs -- Northeast: %s, Southwest: %s, Northwest: %s.' % (northeast_costs, southwest_costs, northwest_costs)) "
   ]
  },
  {
   "cell_type": "markdown",
   "metadata": {},
   "source": [
    "Our h3 hypothesis was correct!  Southeastern folks have the highest average medical costs.  However, our h4 hypothesis has proven to be wrong, as people in the Southwest region have the lowest average medical costs, lower than the Northwest.  Must be that clean desert air.\n",
    "<br>\n",
    "<br>\n",
    "While exploring these first four hypotheses, I noticed that those average medical costs seem somewhat high.  Are our averages being skewed by a few outlying datapoints?  It might be useful to step away from our hypotheses for a while and check to see if our datasets are skewed by comparing the average to the median.  Let's define a function to identify the median medical cost of a dataset."
   ]
  },
  {
   "cell_type": "code",
   "execution_count": 9,
   "metadata": {},
   "outputs": [
    {
     "name": "stdout",
     "output_type": "stream",
     "text": [
      "Median medical costs is 9388.753649999999, vs average cost of 13270.422265141257.\n"
     ]
    }
   ],
   "source": [
    "def median_costs(dataset):\n",
    "        #duplicate dataset and sort by charges (converted to float)\n",
    "    sorted_data = sorted(dataset, key=lambda row: float(row['charges']))\n",
    "        #if dataset is odd, return the charges from the middle row\n",
    "    if len(dataset) % 2 != 0:\n",
    "        return float(sorted_data[len(dataset)//2]['charges'])\n",
    "        #otherwise, average the charges from the two middle rows\n",
    "    else:\n",
    "        middle1 = float(sorted_data[len(dataset)//2]['charges'])\n",
    "        middle2 = float(sorted_data[len(dataset)//2 + 1]['charges'])\n",
    "        return (middle1 + middle2) / 2\n",
    "\n",
    "print('Median medical costs is %s, vs average cost of %s.' % (median_costs(medical_data), average_costs(medical_data)))"
   ]
  },
  {
   "cell_type": "markdown",
   "metadata": {},
   "source": [
    "Ouch.  That's a lot of skew.  It appears we will need to be much more careful with how we use averages with this dataset.  In addition to comparing averages, we will need to compare median numbers for various subgroups in order to make sure the skewing data isn't giving us a false impression.  \n",
    "<br>\n",
    "Let's examine the median medical costs for each region:"
   ]
  },
  {
   "cell_type": "code",
   "execution_count": 10,
   "metadata": {},
   "outputs": [
    {
     "name": "stdout",
     "output_type": "stream",
     "text": [
      "Median costs by region -- Northeast: 10089.09465, Southeast: 9341.3033, Northwest: 8965.79575, Southwest: 8798.593\n"
     ]
    }
   ],
   "source": [
    "print('Median costs by region -- Northeast: %s, Southeast: %s, Northwest: %s, Southwest: %s' %\n",
    "      (\n",
    "          median_costs(northeast_region), \n",
    "          median_costs(southeast_region), \n",
    "          median_costs(northwest_region), \n",
    "          median_costs(southwest_region)\n",
    "      )\n",
    ")"
   ]
  },
  {
   "cell_type": "markdown",
   "metadata": {},
   "source": [
    "Indeed, our h3 conclusion is now somewhat in doubt.  The median medical costs for the Northeast region is higher than the Southeast.  This median number may be more descriptive than the average when drawing conclusions about our skewed dataset.  We will continue to check any comparisons made with averages against the median.\n",
    "<br>\n",
    "<br>\n",
    "<br>\n",
    "## What factors have the greatest effect on medical costs?\n",
    "Everyone knows that smoking is bad for your health.  But is smoking a better predictor of high medical costs than other factors, such as age or BMI?  Let's define a methodology for comparing the predictive power of various demographic categories.\n",
    "- First, we need to define several boolean conditions to test.  Smoking vs. non-smoking is a simple example; however, other conditions will have to be specified.  For example, what qualifies as a high BMI for the sake of comparison?\n",
    "- Second, we will need create subsets of our database that are filtered by condition.  Fortunately, we can do this easily with list comprehensions!  We will need subsets for people that meet our conditions and don't meet our conditions.\n",
    "- Third, we will need to find the averages for our subsets.  We have a function for that!\n",
    "- Last, we need to divide the positive subset by the negative subset to identify an effect factor.  For example, we will divide the average of smokers by the average of non-smokers to identify the factor by which smoking increases the average costs.\n",
    "<br>\n",
    "Now that we have a plan, let's define our conditions!  Smoking vs. non-smoking is an obvious first choice.  \n",
    "Based on our comparison of men vs. women, sex doesn't appear to have too great of an effect on medical costs.  Lets look at BMI and age.  For BMI, lets look at a few conditions:  BMI of over 25 (considered overweight) vs. under; BMI over 30 (considered obese); and BMI over 40 (considered severely obese).  For age, lets look at the effect on costs of being over 45 (vs. under) and being over 60 (vs. under).  To sum it all up, we will examine the effect on costs of the following conditions:\n",
    "1. Smoking vs. non-smoking\n",
    "2. BMI of over 25 vs. under\n",
    "3. BMI of over 30 vs. under\n",
    "4. BMI of over 40 vs. under\n",
    "5. Age over 45 vs. under\n",
    "6. Age over 60 vs. under\n",
    "<br>\n",
    "Let's look at our first condition, smoking vs. non-smoking.  First, we seperate our dataset into subsets for each condition."
   ]
  },
  {
   "cell_type": "code",
   "execution_count": 11,
   "metadata": {},
   "outputs": [],
   "source": [
    "smokers = [row for row in medical_data if row['smoker'] == 'yes']\n",
    "non_smokers = [row for row in medical_data if row['smoker'] == 'no']"
   ]
  },
  {
   "cell_type": "markdown",
   "metadata": {},
   "source": [
    "Easily done!  Now, we take the average of each and divide the average for smokers by that of non-smokers to find a factor that describes the effect on medical costs.  "
   ]
  },
  {
   "cell_type": "code",
   "execution_count": 12,
   "metadata": {},
   "outputs": [
    {
     "name": "stdout",
     "output_type": "stream",
     "text": [
      "The average smoker costs 32050.23183153285, and the average non-smoker costs 8434.268297856199, so on average, smoking increases medical costs by a factor of 3.8000014582983206.\n"
     ]
    }
   ],
   "source": [
    "smoker_costs = average_costs(smokers)\n",
    "non_smoker_costs = average_costs(non_smokers)\n",
    "factor = smoker_costs / non_smoker_costs\n",
    "print('The average smoker costs %s, and the average non-smoker costs %s, so on average, smoking increases medical costs by a factor of %s.'\n",
    "      % (smoker_costs, non_smoker_costs, factor))"
   ]
  },
  {
   "cell_type": "markdown",
   "metadata": {},
   "source": [
    "Wow!  Average costs for smokers are almost four times as high as non-smokers!  We will test our remaining conditions to see if we can find one that has a greater effect on costs than smoking.  However, our other conditions are highly repetitious with only slight changes in certain variables.  For example, our 3 BMI conditions are virtually the same, except for the BMI cutoff each one uses.  We could save some effort here by defining a function that will automate the repetitive practice of identifying subsets, averaging costs, and finding an effect factor.  This function will take the parameters `dataset` (meaning the full dataset), `category` (as in BMI or age), and `cutoff`, an integer."
   ]
  },
  {
   "cell_type": "code",
   "execution_count": 13,
   "metadata": {},
   "outputs": [],
   "source": [
    "def find_effect_on_cost(dataset, category, cutoff):\n",
    "    under_set = [row for row in dataset if float(row[category]) < cutoff]\n",
    "    over_set = [row for row in dataset if float(row[category]) >= cutoff]\n",
    "    return average_costs(over_set) / average_costs(under_set)"
   ]
  },
  {
   "cell_type": "markdown",
   "metadata": {},
   "source": [
    "No problem!  Now we can use this function to find the \"effect factor\" of each of our remaining conditions."
   ]
  },
  {
   "cell_type": "code",
   "execution_count": 14,
   "metadata": {},
   "outputs": [
    {
     "name": "stdout",
     "output_type": "stream",
     "text": [
      "Effect factors:\n",
      "BMI over 25: 1.3557608965994707, BMI over 30: 1.4516351509882732, BMI over 40: 1.289737951611525, age over 45: 1.582714193822603, age over 60: 1.6961224208393453\n"
     ]
    }
   ],
   "source": [
    "overweight_effect = find_effect_on_cost(medical_data, 'bmi', 25)\n",
    "obese_effect = find_effect_on_cost(medical_data, 'bmi', 30)\n",
    "severely_obese_effect = find_effect_on_cost(medical_data, 'bmi', 40)\n",
    "age_over_45 = find_effect_on_cost(medical_data, 'age', 45)\n",
    "age_over_60 = find_effect_on_cost(medical_data, 'age', 60)\n",
    "\n",
    "print('Effect factors:')\n",
    "print ('BMI over 25: %s, BMI over 30: %s, BMI over 40: %s, age over 45: %s, age over 60: %s' %\n",
    "       (overweight_effect, obese_effect, severely_obese_effect, age_over_45, age_over_60))"
   ]
  },
  {
   "cell_type": "markdown",
   "metadata": {},
   "source": [
    "Our h4 hypothesis appears to be correct!  Smoker's medical costs are proportionally greater than non-smoker's by a significantly greater factor than any other single condition.  However, we will want to check this result against a similar analysis that uses the median, since we have seen how dramatically our data can be skewed by outliers.  Let's quickly define a new function to compare the median costs of people who do and don't meet our conditions.  We can basically copy and paste our previous code and make one small change, indicated below."
   ]
  },
  {
   "cell_type": "code",
   "execution_count": 15,
   "metadata": {},
   "outputs": [],
   "source": [
    "def median_effect_on_cost(dataset, category, cutoff):\n",
    "    under_set = [row for row in dataset if float(row[category]) < cutoff]\n",
    "    over_set = [row for row in dataset if float(row[category]) >= cutoff]\n",
    "    return median_costs(over_set) / median_costs(under_set) #<------------Change average_costs to median_costs"
   ]
  },
  {
   "cell_type": "markdown",
   "metadata": {},
   "source": [
    "Now, lets look at effect factors for the *median* costs and compare them to those of the averages.  Our handy function doesn't work with our smoker data, so we will have to work those out the long way!"
   ]
  },
  {
   "cell_type": "code",
   "execution_count": 16,
   "metadata": {},
   "outputs": [
    {
     "data": {
      "text/plain": [
       "4.702007587709066"
      ]
     },
     "execution_count": 16,
     "metadata": {},
     "output_type": "execute_result"
    }
   ],
   "source": [
    "median_smoking_effect = median_costs(smokers) / median_costs(non_smokers)\n",
    "median_smoking_effect"
   ]
  },
  {
   "cell_type": "markdown",
   "metadata": {},
   "source": [
    "Wow!  If anything, our smoker data is skewed in the *opposite* direction as the rest of the set!  Let's quickly use our function to check the rest of the conditions using our `median_effect_on_cost()` function."
   ]
  },
  {
   "cell_type": "code",
   "execution_count": 17,
   "metadata": {},
   "outputs": [
    {
     "name": "stdout",
     "output_type": "stream",
     "text": [
      "Effect factors (using median):\n",
      "BMI over 25: 1.1142731478941263, BMI over 30: 1.1580078951047805, BMI over 40: 1.0493825846210383, age over 45: 2.150065931221872, age over 60: 1.6719982053637383\n"
     ]
    }
   ],
   "source": [
    "median_overweight_effect = median_effect_on_cost(medical_data, 'bmi', 25)\n",
    "median_obese_effect = median_effect_on_cost(medical_data, 'bmi', 30)\n",
    "median_severely_obese_effect = median_effect_on_cost(medical_data, 'bmi', 40)\n",
    "median_age_over_45_effect = median_effect_on_cost(medical_data, 'age', 45)\n",
    "median_age_over_60_effect = median_effect_on_cost(medical_data, 'age', 60)\n",
    "print('Effect factors (using median):')\n",
    "print('BMI over 25: %s, BMI over 30: %s, BMI over 40: %s, age over 45: %s, age over 60: %s' % \n",
    "      (median_overweight_effect, median_obese_effect, median_severely_obese_effect, median_age_over_45_effect, \n",
    "       median_age_over_60_effect))"
   ]
  },
  {
   "cell_type": "markdown",
   "metadata": {},
   "source": [
    "It is now clear that smoking has a much greater effect on medical costs than any other factor, so h4 has definitively been proven true.  However, there is still some doubt about h5, our hypothesis that BMI of over 30 would have a significant effect on medical costs.  The average effect factor for BMI over 30 vs. under was around 1.5; however, the median effect was much smaller.  Some of the difficulty with our hypothesis is because the word *significant* is unspecific.  Is 1.5 a signficant effect?  We need a measure of the variability of the data to see if 1.5 is *statistically* significant.  We need a standard deviation!\n",
    "<br>\n",
    "Standard deviation is the average distance between the mean of a dataset and each datapoint.  Let's write a function to find the standard deviation of the medical costs within a dataset and test it on a few of our subsets to see what effect factor might be significant!"
   ]
  },
  {
   "cell_type": "code",
   "execution_count": 18,
   "metadata": {},
   "outputs": [],
   "source": [
    "def costs_standard_deviation(dataset):\n",
    "    average = average_costs(dataset)\n",
    "    total = 0\n",
    "    for row in dataset:\n",
    "        total += abs(float(row['charges']) - average)\n",
    "    return total / len(dataset)"
   ]
  },
  {
   "cell_type": "markdown",
   "metadata": {},
   "source": [
    "Now lets use this function to find the standard deviation for our dataset."
   ]
  },
  {
   "cell_type": "code",
   "execution_count": 19,
   "metadata": {},
   "outputs": [
    {
     "data": {
      "text/plain": [
       "9091.126581137027"
      ]
     },
     "execution_count": 19,
     "metadata": {},
     "output_type": "execute_result"
    }
   ],
   "source": [
    "costs_standard_deviation(medical_data)"
   ]
  },
  {
   "cell_type": "markdown",
   "metadata": {},
   "source": [
    "Wow!  The standard deviation is very large compared to the average.  So we were right to be mistrustful of that 1.5 effect factor, since the standard deviation is quite a bit larger than the increase to the average caused by BMI, and the effect factor actually goes *down* as BMI increases, leading us to conclude that there are some outliers to this data set that are causing some odd features.\n",
    "<br>\n",
    "<br>\n",
    "I hope this journey through our U.S. Medical Insurance Costs dataset has been enlightening.  Cheers! "
   ]
  }
 ],
 "metadata": {
  "kernelspec": {
   "display_name": "Python 3 (ipykernel)",
   "language": "python",
   "name": "python3"
  },
  "language_info": {
   "codemirror_mode": {
    "name": "ipython",
    "version": 3
   },
   "file_extension": ".py",
   "mimetype": "text/x-python",
   "name": "python",
   "nbconvert_exporter": "python",
   "pygments_lexer": "ipython3",
   "version": "3.9.13"
  }
 },
 "nbformat": 4,
 "nbformat_minor": 4
}
